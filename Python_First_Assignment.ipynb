{
 "cells": [
  {
   "cell_type": "markdown",
   "id": "48ea7350",
   "metadata": {},
   "source": [
    "# Task 1 : Variables and Data Types"
   ]
  },
  {
   "cell_type": "code",
   "execution_count": 1,
   "id": "1c450d56",
   "metadata": {},
   "outputs": [
    {
     "name": "stdout",
     "output_type": "stream",
     "text": [
      "26\n",
      "Khansa Abdul Ghafoor\n",
      "I am a student: True\n"
     ]
    }
   ],
   "source": [
    "# a\n",
    "age = 26\n",
    "na_str = 'Khansa Abdul Ghafoor'\n",
    "student = True\n",
    "print (age)\n",
    "print (na_str)\n",
    "print (\"I am a student:\", student)"
   ]
  },
  {
   "cell_type": "code",
   "execution_count": 2,
   "id": "1cf05a7f",
   "metadata": {},
   "outputs": [
    {
     "name": "stdout",
     "output_type": "stream",
     "text": [
      "51\n",
      "Khansa Abdul Ghafoor Smith\n",
      "I am   not a student\n"
     ]
    }
   ],
   "source": [
    "# b \n",
    "\n",
    "age = age +25\n",
    "\n",
    "na_str = na_str + ' Smith'\n",
    "\n",
    "\n",
    "print (age)\n",
    "\n",
    "print (na_str)\n",
    "\n",
    "\n",
    "student = True \n",
    "\n",
    "if student == True:\n",
    "    student = False \n",
    "    print ('I am   not a student')\n",
    "    \n",
    "else: \n",
    "    student = True \n",
    "    print ('I am a student')"
   ]
  },
  {
   "cell_type": "markdown",
   "id": "b39c0b10",
   "metadata": {},
   "source": [
    "# Task 2: Expressions and Operators"
   ]
  },
  {
   "cell_type": "code",
   "execution_count": 4,
   "id": "051dd90f",
   "metadata": {},
   "outputs": [
    {
     "name": "stdout",
     "output_type": "stream",
     "text": [
      "The area is: 17.875\n"
     ]
    }
   ],
   "source": [
    "# a\n",
    "\n",
    "rectangle  = 5.5 \n",
    "height     = 3.25\n",
    "\n",
    "area = rectangle * height\n",
    "\n",
    "print ('The area is:', area)"
   ]
  },
  {
   "cell_type": "code",
   "execution_count": 7,
   "id": "02ad46de",
   "metadata": {},
   "outputs": [
    {
     "name": "stdout",
     "output_type": "stream",
     "text": [
      "Temperature in Fahrenheit is: 113.0\n"
     ]
    }
   ],
   "source": [
    "# b \n",
    "\n",
    "Temp_Celsicus = 45 \n",
    "Temp_Fahrenheit = (Temp_Celsicus * 9/5) + 32\n",
    "\n",
    "print ('Temperature in Fahrenheit is:', Temp_Fahrenheit)"
   ]
  },
  {
   "cell_type": "code",
   "execution_count": 8,
   "id": "b97b3545",
   "metadata": {},
   "outputs": [
    {
     "name": "stdout",
     "output_type": "stream",
     "text": [
      "Area of a circle is: 78.53975\n"
     ]
    }
   ],
   "source": [
    "# c\n",
    "radius = 5 \n",
    "area = 3.14159*5**2\n",
    "\n",
    "print ('Area of a circle is:', area)\n",
    "\n",
    "or \n",
    "# radius = 5 \n",
    "# pie = 3.14159\n",
    "# area = pie*radius**2\n",
    "# print ('Area of a circle is:', area)"
   ]
  },
  {
   "cell_type": "markdown",
   "id": "cd30d7cb",
   "metadata": {},
   "source": [
    "# Task 3: Introduction to Data Structures"
   ]
  },
  {
   "cell_type": "code",
   "execution_count": 9,
   "id": "6bad99e2",
   "metadata": {},
   "outputs": [
    {
     "name": "stdout",
     "output_type": "stream",
     "text": [
      "['apple', 'banana', 'orange', 'grape', 'kiwi']\n"
     ]
    }
   ],
   "source": [
    "#a\n",
    "\n",
    "fruits = ['apple', 'banana', 'orange', 'grape', 'kiwi']\n",
    "print (fruits)"
   ]
  },
  {
   "cell_type": "code",
   "execution_count": 14,
   "id": "393e17d7",
   "metadata": {},
   "outputs": [
    {
     "name": "stdout",
     "output_type": "stream",
     "text": [
      "('Jan', 'Feb', 'Mar')\n"
     ]
    }
   ],
   "source": [
    "# b\n",
    "\n",
    "months_tup = ('Jan', 'Feb', 'Mar')\n",
    "print (months_tup)"
   ]
  },
  {
   "cell_type": "markdown",
   "id": "97924f7b",
   "metadata": {},
   "source": [
    "# Task 4 : List Manipulation"
   ]
  },
  {
   "cell_type": "code",
   "execution_count": 18,
   "id": "2f5b05ce",
   "metadata": {},
   "outputs": [
    {
     "name": "stdout",
     "output_type": "stream",
     "text": [
      "The sum of numbers are: 426\n",
      "The average of numbers are: 53.25\n"
     ]
    }
   ],
   "source": [
    "# a\n",
    "\n",
    "numbers = [12, 34, 45, 67, 89, 100, 23, 56]\n",
    "sum_numbers = sum(numbers)\n",
    "average_numbers = sum_numbers/8\n",
    "\n",
    "print ('The sum of numbers are:',sum_numbers)\n",
    "print ('The average of numbers are:', average_numbers)\n",
    "\n"
   ]
  },
  {
   "cell_type": "code",
   "execution_count": 25,
   "id": "ad5e6b64",
   "metadata": {},
   "outputs": [
    {
     "name": "stdout",
     "output_type": "stream",
     "text": [
      "['apple', 'orange', 'grape']\n"
     ]
    }
   ],
   "source": [
    "# B \n",
    "fruits = ['apple', 'banana', 'orange', 'grape', 'kiwi']\n",
    "\n",
    "fruits.remove ('banana')\n",
    "fruits.remove ('kiwi')\n",
    "\n",
    "print(fruits)\n",
    "\n",
    "# I assued that first element means 1 so in list numbering starts from 0 so I taken 1 which is banana"
   ]
  },
  {
   "cell_type": "code",
   "execution_count": null,
   "id": "75e1cf59",
   "metadata": {},
   "outputs": [],
   "source": []
  }
 ],
 "metadata": {
  "kernelspec": {
   "display_name": "Python 3 (ipykernel)",
   "language": "python",
   "name": "python3"
  },
  "language_info": {
   "codemirror_mode": {
    "name": "ipython",
    "version": 3
   },
   "file_extension": ".py",
   "mimetype": "text/x-python",
   "name": "python",
   "nbconvert_exporter": "python",
   "pygments_lexer": "ipython3",
   "version": "3.11.5"
  }
 },
 "nbformat": 4,
 "nbformat_minor": 5
}
